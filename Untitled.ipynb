{
 "cells": [
  {
   "cell_type": "code",
   "execution_count": null,
   "id": "8bc0c517",
   "metadata": {},
   "outputs": [
    {
     "ename": "",
     "evalue": "",
     "output_type": "error",
     "traceback": [
      "\u001b[1;31mリモート Jupyter Server 'http://localhost:8888/' に接続できませんでした。サーバーが実行されていて、到達可能であることを確認してください。('_xsrf' argument missing from POST)。"
     ]
    }
   ],
   "source": [
    "from pathlib import Path\n",
    "\n",
    "print(\"cwd:\", Path.cwd())\n",
    "print(\"data dir exists?:\", Path(\"data\").exists())\n",
    "print(\"2020_ACC dir exists?:\", Path(\"data/swarm/2020_ACC\").exists())\n",
    "\n",
    "# data 以下を再帰的に探してみる\n",
    "for p in Path(\"data\").rglob(\"*\"):\n",
    "    print(p)\n",
    "\n"
   ]
  }
 ],
 "metadata": {
  "kernelspec": {
   "display_name": "Python 3 (ipykernel)",
   "language": "python",
   "name": "python3"
  }
 },
 "nbformat": 4,
 "nbformat_minor": 5
}
