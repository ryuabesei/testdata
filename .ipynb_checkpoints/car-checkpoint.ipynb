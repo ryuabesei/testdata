{
 "cells": [
  {
   "cell_type": "code",
   "execution_count": null,
   "id": "f6eb2f1c-06db-4407-9a7b-0d6797a17217",
   "metadata": {},
   "outputs": [],
   "source": [
    "import cartopy\n",
    "print(cartopy.__version__)\n"
   ]
  }
 ],
 "metadata": {
  "kernelspec": {
   "display_name": "Python 3 (ipykernel)",
   "language": "python",
   "name": "python3"
  },
  "language_info": {
   "codemirror_mode": {
    "name": "ipython",
    "version": 3
   },
   "file_extension": ".py",
   "mimetype": "text/x-python",
   "name": "python",
   "nbconvert_exporter": "python",
   "pygments_lexer": "ipython3",
   "version": "3.11.13"
  }
 },
 "nbformat": 4,
 "nbformat_minor": 5
}
