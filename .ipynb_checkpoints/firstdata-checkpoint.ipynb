{
 "cells": [
  {
   "cell_type": "code",
   "execution_count": 6,
   "id": "cb7220cc-4ea3-4501-8504-457b60881c23",
   "metadata": {},
   "outputs": [],
   "source": [
    "import pandas as pd\n",
    "import numpy as np\n",
    "import matplotlib.pyplot as plt\n",
    "import cdflib \n",
    "from cdflib import cdfepoch\n",
    "from pathlib import Path"
   ]
  },
  {
   "cell_type": "code",
   "execution_count": null,
   "id": "b248acce-011d-4eda-b7d0-692e4c7c0f4e",
   "metadata": {},
   "outputs": [],
   "source": [
    "from pathlib import Path\n",
    "import cdflib\n",
    "\n",
    "def list_cdf_vars(cdf_path):\n",
    "    cdf = cdflib.CDF(str(cdf_path))\n",
    "    info = cdf.cdf_info()\n",
    "    print(\"=== Variables in\", cdf_path.name, \"===\")\n",
    "    for v in info[\"rVariables\"] + info[\"zVariables\"]:\n",
    "        print(\"-\", v)\n",
    "\n",
    "# ACCファイルを指定（ファイル名はそのまま使う）\n",
    "acc_file = Path(\"data/swarm/acc/SW_OPER_DNSCACC_2__20200216T000000_20200216T235950_0201.cdf\")\n",
    "\n",
    "# 変数名一覧を表示\n",
    "list_cdf_vars(acc_file)\n"
   ]
  },
  {
   "cell_type": "code",
   "execution_count": null,
   "id": "b422a6a8-d583-4ede-91ec-f9e836705a1f",
   "metadata": {},
   "outputs": [],
   "source": []
  }
 ],
 "metadata": {
  "kernelspec": {
   "display_name": "Python 3 (ipykernel)",
   "language": "python",
   "name": "python3"
  },
  "language_info": {
   "codemirror_mode": {
    "name": "ipython",
    "version": 3
   },
   "file_extension": ".py",
   "mimetype": "text/x-python",
   "name": "python",
   "nbconvert_exporter": "python",
   "pygments_lexer": "ipython3",
   "version": "3.11.13"
  }
 },
 "nbformat": 4,
 "nbformat_minor": 5
}
